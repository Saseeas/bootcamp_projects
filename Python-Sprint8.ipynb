{
  "nbformat": 4,
  "nbformat_minor": 0,
  "metadata": {
    "colab": {
      "provenance": [],
      "authorship_tag": "ABX9TyM7dIi4Glnq0ARAO35RA/pB",
      "include_colab_link": true
    },
    "kernelspec": {
      "name": "python3",
      "display_name": "Python 3"
    },
    "language_info": {
      "name": "python"
    }
  },
  "cells": [
    {
      "cell_type": "markdown",
      "metadata": {
        "id": "view-in-github",
        "colab_type": "text"
      },
      "source": [
        "<a href=\"https://colab.research.google.com/github/Saseeas/bootcamp_projects/blob/main/Python-Sprint8.ipynb\" target=\"_parent\"><img src=\"https://colab.research.google.com/assets/colab-badge.svg\" alt=\"Open In Colab\"/></a>"
      ]
    },
    {
      "cell_type": "code",
      "execution_count": null,
      "metadata": {
        "id": "L4sn4DEDNz-r"
      },
      "outputs": [],
      "source": []
    },
    {
      "cell_type": "code",
      "source": [],
      "metadata": {
        "id": "-dRZUQVPOI-M"
      },
      "execution_count": 2,
      "outputs": []
    },
    {
      "cell_type": "markdown",
      "source": [
        "# **Intro to Python**\n",
        "\n",
        "\n",
        "*   Data sturcture \n",
        "  \n",
        "\n",
        "1.  list  [ ]     mutable object (can update value)\n",
        "2.  tuple ()    = same as list but its is immutable object \n",
        "3. dictionary { key : value}\n",
        "4. set {}\n"
      ],
      "metadata": {
        "id": "EUVP_b7fO1NS"
      }
    },
    {
      "cell_type": "markdown",
      "source": [
        "\n",
        "# String\n"
      ],
      "metadata": {
        "id": "uQH1PE2APgEa"
      }
    },
    {
      "cell_type": "code",
      "source": [
        "#'String  % fstring in python\n",
        "my_name = \"Boom\"\n",
        "My_university  = 'Cov Uni'\n",
        "my_long_string = \"\"\"this is a very long \n",
        "this is a second line\n",
        "this is a thrid line\n",
        "\"\"\""
      ],
      "metadata": {
        "id": "M7y1dDsxS-gU"
      },
      "execution_count": 58,
      "outputs": []
    },
    {
      "cell_type": "code",
      "source": [
        "print (my_name,My_university,my_long_string)"
      ],
      "metadata": {
        "colab": {
          "base_uri": "https://localhost:8080/"
        },
        "id": "OSYAppt1S-oZ",
        "outputId": "e5f534c3-d525-43de-cdc9-8a5176b02e79"
      },
      "execution_count": 59,
      "outputs": [
        {
          "output_type": "stream",
          "name": "stdout",
          "text": [
            "Boom Cov Uni this is a very long \n",
            "this is a second line\n",
            "this is a thrid line\n",
            "\n"
          ]
        }
      ]
    },
    {
      "cell_type": "code",
      "source": [
        "#fstring template \n",
        "my_name = \"boom\"\n",
        "my_age = 25"
      ],
      "metadata": {
        "id": "Ta1kiHFLS-tX"
      },
      "execution_count": 60,
      "outputs": []
    },
    {
      "cell_type": "code",
      "source": [
        "text = f\"my name is {my_name}, and I am {my_age} years old.\"\n",
        "print(text)"
      ],
      "metadata": {
        "colab": {
          "base_uri": "https://localhost:8080/"
        },
        "id": "ov_BN2jrTE3W",
        "outputId": "107d052b-fa2f-4c4b-d7ca-faf7813b3556"
      },
      "execution_count": 61,
      "outputs": [
        {
          "output_type": "stream",
          "name": "stdout",
          "text": [
            "my name is boom, and I am 25 years old.\n"
          ]
        }
      ]
    },
    {
      "cell_type": "code",
      "source": [
        "# function designed for string (string methods)\n",
        "text = \"a duck walks into a bar \""
      ],
      "metadata": {
        "id": "Ak1ylAfxQz-R"
      },
      "execution_count": 19,
      "outputs": []
    },
    {
      "cell_type": "code",
      "source": [
        "type(text)\n"
      ],
      "metadata": {
        "colab": {
          "base_uri": "https://localhost:8080/",
          "height": 35
        },
        "id": "v4mDXI7bQ0gQ",
        "outputId": "c0efbbfe-5d78-4704-b736-816525c58b06"
      },
      "execution_count": 22,
      "outputs": [
        {
          "output_type": "execute_result",
          "data": {
            "text/plain": [
              "'A DUCK WALKS INTO A BAR '"
            ],
            "application/vnd.google.colaboratory.intrinsic+json": {
              "type": "string"
            }
          },
          "metadata": {},
          "execution_count": 22
        }
      ]
    },
    {
      "cell_type": "code",
      "source": [
        "text.upper()\n"
      ],
      "metadata": {
        "colab": {
          "base_uri": "https://localhost:8080/",
          "height": 35
        },
        "id": "G1s5O31xQ27l",
        "outputId": "4ac6f0ef-8cea-4510-ee3b-881679fc37fa"
      },
      "execution_count": 23,
      "outputs": [
        {
          "output_type": "execute_result",
          "data": {
            "text/plain": [
              "'A DUCK WALKS INTO A BAR '"
            ],
            "application/vnd.google.colaboratory.intrinsic+json": {
              "type": "string"
            }
          },
          "metadata": {},
          "execution_count": 23
        }
      ]
    },
    {
      "cell_type": "code",
      "source": [
        "\"HELLO WORLD\".lower()"
      ],
      "metadata": {
        "colab": {
          "base_uri": "https://localhost:8080/",
          "height": 35
        },
        "id": "X9WemWClQ3AV",
        "outputId": "c61118c3-ac16-4486-8591-b6d643831c7b"
      },
      "execution_count": 24,
      "outputs": [
        {
          "output_type": "execute_result",
          "data": {
            "text/plain": [
              "'hello world'"
            ],
            "application/vnd.google.colaboratory.intrinsic+json": {
              "type": "string"
            }
          },
          "metadata": {},
          "execution_count": 24
        }
      ]
    },
    {
      "cell_type": "code",
      "source": [
        "text2 = text.replace('duck','lion')     #replace duck with a lion \n",
        "print(text2)"
      ],
      "metadata": {
        "colab": {
          "base_uri": "https://localhost:8080/"
        },
        "id": "GhmAK0e0Q3Dt",
        "outputId": "f83ef5cf-1286-453f-e216-f74d5e5fdea9"
      },
      "execution_count": 26,
      "outputs": [
        {
          "output_type": "stream",
          "name": "stdout",
          "text": [
            "a lion walks into a bar \n"
          ]
        }
      ]
    },
    {
      "cell_type": "code",
      "source": [],
      "metadata": {
        "id": "zWmZ7a63RICI"
      },
      "execution_count": null,
      "outputs": []
    },
    {
      "cell_type": "markdown",
      "source": [],
      "metadata": {
        "id": "QppRapomeXwR"
      }
    },
    {
      "cell_type": "markdown",
      "source": [
        "# List"
      ],
      "metadata": {
        "id": "ZH2XB9pLRUMT"
      }
    },
    {
      "cell_type": "code",
      "source": [
        "# list\n",
        "shopping_list = ['egg', 'milk', 'bread']\n",
        "print(shopping_list)\n"
      ],
      "metadata": {
        "colab": {
          "base_uri": "https://localhost:8080/"
        },
        "id": "iX9fDslURXrC",
        "outputId": "ee0e52d9-6d29-4cd4-8d44-02e6a29100cb"
      },
      "execution_count": 40,
      "outputs": [
        {
          "output_type": "stream",
          "name": "stdout",
          "text": [
            "['egg', 'milk', 'bread']\n"
          ]
        }
      ]
    },
    {
      "cell_type": "code",
      "source": [
        "# list method = append\n",
        "shopping_list.append('orange juice')\n",
        "print(shopping_list)"
      ],
      "metadata": {
        "colab": {
          "base_uri": "https://localhost:8080/"
        },
        "id": "aMva-_g4RZ5x",
        "outputId": "401d6566-dfee-4963-895f-fee40df22c1d"
      },
      "execution_count": 41,
      "outputs": [
        {
          "output_type": "stream",
          "name": "stdout",
          "text": [
            "['egg', 'milk', 'bread', 'orange juice']\n"
          ]
        }
      ]
    },
    {
      "cell_type": "code",
      "source": [
        "type(shopping_list)"
      ],
      "metadata": {
        "colab": {
          "base_uri": "https://localhost:8080/"
        },
        "id": "71JnJptPRb4S",
        "outputId": "59dd2844-8a9e-48a9-afe2-593e8a080b90"
      },
      "execution_count": 42,
      "outputs": [
        {
          "output_type": "execute_result",
          "data": {
            "text/plain": [
              "list"
            ]
          },
          "metadata": {},
          "execution_count": 42
        }
      ]
    },
    {
      "cell_type": "code",
      "source": [
        "# list method .pop()   =delete last item \n",
        "shopping_list.pop()"
      ],
      "metadata": {
        "colab": {
          "base_uri": "https://localhost:8080/",
          "height": 35
        },
        "id": "diunx1QIRoFJ",
        "outputId": "314eb2d4-1139-45b3-96a0-a7745c87a0e2"
      },
      "execution_count": 43,
      "outputs": [
        {
          "output_type": "execute_result",
          "data": {
            "text/plain": [
              "'orange juice'"
            ],
            "application/vnd.google.colaboratory.intrinsic+json": {
              "type": "string"
            }
          },
          "metadata": {},
          "execution_count": 43
        }
      ]
    },
    {
      "cell_type": "code",
      "source": [
        "shopping_list"
      ],
      "metadata": {
        "colab": {
          "base_uri": "https://localhost:8080/"
        },
        "id": "MPKzf1yaSqTQ",
        "outputId": "abeb6eff-e8c7-46f8-81c0-d6e4e82c3e73"
      },
      "execution_count": 44,
      "outputs": [
        {
          "output_type": "execute_result",
          "data": {
            "text/plain": [
              "['egg', 'milk', 'bread']"
            ]
          },
          "metadata": {},
          "execution_count": 44
        }
      ]
    },
    {
      "cell_type": "code",
      "source": [
        "len(shopping_list)\n"
      ],
      "metadata": {
        "colab": {
          "base_uri": "https://localhost:8080/"
        },
        "id": "LUwc7rY2St6Y",
        "outputId": "d3a3beac-fc03-400b-81be-c24420ce66ef"
      },
      "execution_count": 45,
      "outputs": [
        {
          "output_type": "execute_result",
          "data": {
            "text/plain": [
              "3"
            ]
          },
          "metadata": {},
          "execution_count": 45
        }
      ]
    },
    {
      "cell_type": "code",
      "source": [],
      "metadata": {
        "id": "xbZNkpKNSyE4"
      },
      "execution_count": null,
      "outputs": []
    },
    {
      "cell_type": "code",
      "source": [],
      "metadata": {
        "id": "1_VnT18oTPCW"
      },
      "execution_count": null,
      "outputs": []
    },
    {
      "cell_type": "markdown",
      "source": [
        "# Dictionary "
      ],
      "metadata": {
        "id": "0_H3mj_yTPL6"
      }
    },
    {
      "cell_type": "code",
      "source": [
        "student = {\n",
        "\"id\": 1,\n",
        "\"name\": \"Mary\",\n",
        "\"age\": 22,\n",
        "\"movies\": [\"Spider Man\", \"Thor\", \"Iron Man 3\"]\n",
        "}"
      ],
      "metadata": {
        "id": "vBil846ITQ64"
      },
      "execution_count": 62,
      "outputs": []
    },
    {
      "cell_type": "code",
      "source": [
        "student['movies'][0]"
      ],
      "metadata": {
        "colab": {
          "base_uri": "https://localhost:8080/",
          "height": 35
        },
        "id": "4gwGo_9zTTAg",
        "outputId": "cc934ded-a0a6-4676-bb6d-f9a8bcfa5d8d"
      },
      "execution_count": 63,
      "outputs": [
        {
          "output_type": "execute_result",
          "data": {
            "text/plain": [
              "'Spider Man'"
            ],
            "application/vnd.google.colaboratory.intrinsic+json": {
              "type": "string"
            }
          },
          "metadata": {},
          "execution_count": 63
        }
      ]
    },
    {
      "cell_type": "code",
      "source": [
        "student['city'] = 'London'   #addition city in the dictionary \n",
        "student\n"
      ],
      "metadata": {
        "colab": {
          "base_uri": "https://localhost:8080/"
        },
        "id": "fO4aCc1LTU9C",
        "outputId": "34290a6c-bb67-4c06-a8fd-681540524b5b"
      },
      "execution_count": 64,
      "outputs": [
        {
          "output_type": "execute_result",
          "data": {
            "text/plain": [
              "{'id': 1,\n",
              " 'name': 'Mary',\n",
              " 'age': 22,\n",
              " 'movies': ['Spider Man', 'Thor', 'Iron Man 3'],\n",
              " 'city': 'London'}"
            ]
          },
          "metadata": {},
          "execution_count": 64
        }
      ]
    },
    {
      "cell_type": "code",
      "source": [
        "# update value\n",
        "student['city'] = 'Manchester'\n",
        "student\n"
      ],
      "metadata": {
        "colab": {
          "base_uri": "https://localhost:8080/"
        },
        "id": "9RqzTtYWTXbI",
        "outputId": "bc79118e-baa6-4b99-b80a-0cf5f9987924"
      },
      "execution_count": 65,
      "outputs": [
        {
          "output_type": "execute_result",
          "data": {
            "text/plain": [
              "{'id': 1,\n",
              " 'name': 'Mary',\n",
              " 'age': 22,\n",
              " 'movies': ['Spider Man', 'Thor', 'Iron Man 3'],\n",
              " 'city': 'Manchester'}"
            ]
          },
          "metadata": {},
          "execution_count": 65
        }
      ]
    },
    {
      "cell_type": "code",
      "source": [
        "# remove key-value\n",
        "del student['city']\n",
        "student"
      ],
      "metadata": {
        "colab": {
          "base_uri": "https://localhost:8080/"
        },
        "id": "f1NarXwCTeO4",
        "outputId": "822a5ca2-bfd3-4a2d-abc1-ef0ae9539b9a"
      },
      "execution_count": 66,
      "outputs": [
        {
          "output_type": "execute_result",
          "data": {
            "text/plain": [
              "{'id': 1,\n",
              " 'name': 'Mary',\n",
              " 'age': 22,\n",
              " 'movies': ['Spider Man', 'Thor', 'Iron Man 3']}"
            ]
          },
          "metadata": {},
          "execution_count": 66
        }
      ]
    },
    {
      "cell_type": "code",
      "source": [],
      "metadata": {
        "id": "hZkJuExsTgjA"
      },
      "execution_count": null,
      "outputs": []
    },
    {
      "cell_type": "code",
      "source": [],
      "metadata": {
        "id": "alEp8T8kTjaJ"
      },
      "execution_count": null,
      "outputs": []
    },
    {
      "cell_type": "markdown",
      "source": [
        "# Function "
      ],
      "metadata": {
        "id": "fqEwnZ7xTkSC"
      }
    },
    {
      "cell_type": "code",
      "source": [
        "# user-defined function\n",
        "def hello(username):\n",
        "    print(\"Hello! \" + username)"
      ],
      "metadata": {
        "id": "J_MFqeN4Tmw_"
      },
      "execution_count": 80,
      "outputs": []
    },
    {
      "cell_type": "code",
      "source": [
        "hello(\"Boom\")"
      ],
      "metadata": {
        "colab": {
          "base_uri": "https://localhost:8080/"
        },
        "id": "g5sPfg3OToZ4",
        "outputId": "26c97609-9921-4578-d00d-b5bfb421e9f7"
      },
      "execution_count": 81,
      "outputs": [
        {
          "output_type": "stream",
          "name": "stdout",
          "text": [
            "Hello! Boom\n"
          ]
        }
      ]
    },
    {
      "cell_type": "code",
      "source": [
        "def my_sum(val1, val2):\n",
        "    return val1 + val2\n"
      ],
      "metadata": {
        "id": "YSnz8jSVTsRA"
      },
      "execution_count": 77,
      "outputs": []
    },
    {
      "cell_type": "code",
      "source": [
        "result = my_sum(5, 15)\n",
        "result"
      ],
      "metadata": {
        "colab": {
          "base_uri": "https://localhost:8080/"
        },
        "id": "SMj_cI8lTt_A",
        "outputId": "ecc5e208-0a9b-41ed-ff7f-ba363f016705"
      },
      "execution_count": 79,
      "outputs": [
        {
          "output_type": "execute_result",
          "data": {
            "text/plain": [
              "20"
            ]
          },
          "metadata": {},
          "execution_count": 79
        }
      ]
    },
    {
      "cell_type": "code",
      "source": [],
      "metadata": {
        "id": "p2v6zrpxTwyX"
      },
      "execution_count": null,
      "outputs": []
    },
    {
      "cell_type": "markdown",
      "source": [
        "# OOP\n",
        "Object Oriented Programming"
      ],
      "metadata": {
        "id": "zk4_PZ6lUBD7"
      }
    },
    {
      "cell_type": "code",
      "source": [
        "class Dog:\n",
        "  name = \"Boom\"\n",
        "  age = 5\n",
        "  color = \"Brown\"\n",
        "  breed = \"Pom\"\n",
        "\n",
        "# function (Dog method)\n",
        "def sitting(self):\n",
        "  print(\"I am sitting now!\")\n",
        "def hungry(self, food_name):\n",
        "  print(f\"I am hungry, I need {food_name}!\")"
      ],
      "metadata": {
        "id": "31kaBoiXULX7"
      },
      "execution_count": 95,
      "outputs": []
    },
    {
      "cell_type": "code",
      "source": [
        "my_dog = Dog()\n",
        "type(my_dog)"
      ],
      "metadata": {
        "colab": {
          "base_uri": "https://localhost:8080/"
        },
        "id": "1RZ0HptPUMDv",
        "outputId": "31e32461-510a-4fe4-ea22-aa42d3bea578"
      },
      "execution_count": 102,
      "outputs": [
        {
          "output_type": "execute_result",
          "data": {
            "text/plain": [
              "__main__.Dog"
            ]
          },
          "metadata": {},
          "execution_count": 102
        }
      ]
    },
    {
      "cell_type": "code",
      "source": [
        "my_dog.sitting()"
      ],
      "metadata": {
        "colab": {
          "base_uri": "https://localhost:8080/",
          "height": 165
        },
        "id": "spsQ-xsGUlBn",
        "outputId": "67158fcb-afbd-45d9-f66c-fc917f2d870b"
      },
      "execution_count": 101,
      "outputs": [
        {
          "output_type": "error",
          "ename": "AttributeError",
          "evalue": "ignored",
          "traceback": [
            "\u001b[0;31m---------------------------------------------------------------------------\u001b[0m",
            "\u001b[0;31mAttributeError\u001b[0m                            Traceback (most recent call last)",
            "\u001b[0;32m<ipython-input-101-20b1ee923e74>\u001b[0m in \u001b[0;36m<module>\u001b[0;34m\u001b[0m\n\u001b[0;32m----> 1\u001b[0;31m \u001b[0mmy_dog\u001b[0m\u001b[0;34m.\u001b[0m\u001b[0msitting\u001b[0m\u001b[0;34m(\u001b[0m\u001b[0;34m)\u001b[0m\u001b[0;34m\u001b[0m\u001b[0;34m\u001b[0m\u001b[0m\n\u001b[0m",
            "\u001b[0;31mAttributeError\u001b[0m: 'Dog' object has no attribute 'sitting'"
          ]
        }
      ]
    },
    {
      "cell_type": "code",
      "source": [
        "my_dog.hungry(\"Hamburger\")"
      ],
      "metadata": {
        "colab": {
          "base_uri": "https://localhost:8080/",
          "height": 165
        },
        "id": "ZkEFvEV7UpTX",
        "outputId": "20bbc909-f198-4eae-919e-3d128641303f"
      },
      "execution_count": 103,
      "outputs": [
        {
          "output_type": "error",
          "ename": "AttributeError",
          "evalue": "ignored",
          "traceback": [
            "\u001b[0;31m---------------------------------------------------------------------------\u001b[0m",
            "\u001b[0;31mAttributeError\u001b[0m                            Traceback (most recent call last)",
            "\u001b[0;32m<ipython-input-103-a0dbf9e74505>\u001b[0m in \u001b[0;36m<module>\u001b[0;34m\u001b[0m\n\u001b[0;32m----> 1\u001b[0;31m \u001b[0mmy_dog\u001b[0m\u001b[0;34m.\u001b[0m\u001b[0mhungry\u001b[0m\u001b[0;34m(\u001b[0m\u001b[0;34m\"Hamburger\"\u001b[0m\u001b[0;34m)\u001b[0m\u001b[0;34m\u001b[0m\u001b[0;34m\u001b[0m\u001b[0m\n\u001b[0m",
            "\u001b[0;31mAttributeError\u001b[0m: 'Dog' object has no attribute 'hungry'"
          ]
        }
      ]
    },
    {
      "cell_type": "code",
      "source": [],
      "metadata": {
        "id": "l1_uJhl9Uqs3"
      },
      "execution_count": null,
      "outputs": []
    }
  ]
}